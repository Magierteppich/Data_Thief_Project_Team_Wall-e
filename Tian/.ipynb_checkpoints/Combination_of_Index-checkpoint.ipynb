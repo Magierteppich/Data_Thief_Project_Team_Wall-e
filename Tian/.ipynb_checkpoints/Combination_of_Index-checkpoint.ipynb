{
 "cells": [
  {
   "cell_type": "code",
   "execution_count": 2,
   "metadata": {},
   "outputs": [],
   "source": [
    "import pandas as pd\n",
    "import numpy as np\n",
    "import datetime"
   ]
  },
  {
   "cell_type": "code",
   "execution_count": 62,
   "metadata": {},
   "outputs": [
    {
     "data": {
      "text/html": [
       "<div>\n",
       "<style scoped>\n",
       "    .dataframe tbody tr th:only-of-type {\n",
       "        vertical-align: middle;\n",
       "    }\n",
       "\n",
       "    .dataframe tbody tr th {\n",
       "        vertical-align: top;\n",
       "    }\n",
       "\n",
       "    .dataframe thead th {\n",
       "        text-align: right;\n",
       "    }\n",
       "</style>\n",
       "<table border=\"1\" class=\"dataframe\">\n",
       "  <thead>\n",
       "    <tr style=\"text-align: right;\">\n",
       "      <th></th>\n",
       "      <th>col</th>\n",
       "    </tr>\n",
       "  </thead>\n",
       "  <tbody>\n",
       "    <tr>\n",
       "      <th>0</th>\n",
       "      <td>2019-01-01,</td>\n",
       "    </tr>\n",
       "    <tr>\n",
       "      <th>1</th>\n",
       "      <td>2019-01-02,</td>\n",
       "    </tr>\n",
       "    <tr>\n",
       "      <th>2</th>\n",
       "      <td>2019-01-03,</td>\n",
       "    </tr>\n",
       "    <tr>\n",
       "      <th>3</th>\n",
       "      <td>2019-01-04,</td>\n",
       "    </tr>\n",
       "    <tr>\n",
       "      <th>4</th>\n",
       "      <td>2019-01-05,</td>\n",
       "    </tr>\n",
       "    <tr>\n",
       "      <th>...</th>\n",
       "      <td>...</td>\n",
       "    </tr>\n",
       "    <tr>\n",
       "      <th>459</th>\n",
       "      <td>2020-04-04,</td>\n",
       "    </tr>\n",
       "    <tr>\n",
       "      <th>460</th>\n",
       "      <td>2020-04-05,</td>\n",
       "    </tr>\n",
       "    <tr>\n",
       "      <th>461</th>\n",
       "      <td>2020-04-06,</td>\n",
       "    </tr>\n",
       "    <tr>\n",
       "      <th>462</th>\n",
       "      <td>2020-04-07,</td>\n",
       "    </tr>\n",
       "    <tr>\n",
       "      <th>463</th>\n",
       "      <td>2020-04-08</td>\n",
       "    </tr>\n",
       "  </tbody>\n",
       "</table>\n",
       "<p>464 rows × 1 columns</p>\n",
       "</div>"
      ],
      "text/plain": [
       "             col\n",
       "0    2019-01-01,\n",
       "1    2019-01-02,\n",
       "2    2019-01-03,\n",
       "3    2019-01-04,\n",
       "4    2019-01-05,\n",
       "..           ...\n",
       "459  2020-04-04,\n",
       "460  2020-04-05,\n",
       "461  2020-04-06,\n",
       "462  2020-04-07,\n",
       "463   2020-04-08\n",
       "\n",
       "[464 rows x 1 columns]"
      ]
     },
     "execution_count": 62,
     "metadata": {},
     "output_type": "execute_result"
    }
   ],
   "source": [
    "def date_range(start, end):\n",
    "    r = (end+datetime.timedelta(days=1)-start).days\n",
    "    return [start+datetime.timedelta(days=i) for i in range(r)]\n",
    "\n",
    "start = datetime.date(2019,1,1)\n",
    "end = datetime.date(2020,4,8)\n",
    "dateList = date_range(start, end)\n",
    "\n",
    "dateList\n",
    "dateList_new = \", \".join([str(date) for date in dateList])\n",
    "date = []\n",
    "date = list(dateList_new.split())\n",
    "\n",
    "df_date = pd.DataFrame({'col':date})\n",
    "df_date"
   ]
  },
  {
   "cell_type": "code",
   "execution_count": 64,
   "metadata": {},
   "outputs": [
    {
     "data": {
      "text/html": [
       "<div>\n",
       "<style scoped>\n",
       "    .dataframe tbody tr th:only-of-type {\n",
       "        vertical-align: middle;\n",
       "    }\n",
       "\n",
       "    .dataframe tbody tr th {\n",
       "        vertical-align: top;\n",
       "    }\n",
       "\n",
       "    .dataframe thead th {\n",
       "        text-align: right;\n",
       "    }\n",
       "</style>\n",
       "<table border=\"1\" class=\"dataframe\">\n",
       "  <thead>\n",
       "    <tr style=\"text-align: right;\">\n",
       "      <th></th>\n",
       "      <th>col</th>\n",
       "      <th>date</th>\n",
       "    </tr>\n",
       "  </thead>\n",
       "  <tbody>\n",
       "    <tr>\n",
       "      <th>0</th>\n",
       "      <td>2019-01-01,</td>\n",
       "      <td>2019-01-01</td>\n",
       "    </tr>\n",
       "    <tr>\n",
       "      <th>1</th>\n",
       "      <td>2019-01-02,</td>\n",
       "      <td>2019-01-02</td>\n",
       "    </tr>\n",
       "    <tr>\n",
       "      <th>2</th>\n",
       "      <td>2019-01-03,</td>\n",
       "      <td>2019-01-03</td>\n",
       "    </tr>\n",
       "    <tr>\n",
       "      <th>3</th>\n",
       "      <td>2019-01-04,</td>\n",
       "      <td>2019-01-04</td>\n",
       "    </tr>\n",
       "    <tr>\n",
       "      <th>4</th>\n",
       "      <td>2019-01-05,</td>\n",
       "      <td>2019-01-05</td>\n",
       "    </tr>\n",
       "    <tr>\n",
       "      <th>...</th>\n",
       "      <td>...</td>\n",
       "      <td>...</td>\n",
       "    </tr>\n",
       "    <tr>\n",
       "      <th>459</th>\n",
       "      <td>2020-04-04,</td>\n",
       "      <td>2020-04-04</td>\n",
       "    </tr>\n",
       "    <tr>\n",
       "      <th>460</th>\n",
       "      <td>2020-04-05,</td>\n",
       "      <td>2020-04-05</td>\n",
       "    </tr>\n",
       "    <tr>\n",
       "      <th>461</th>\n",
       "      <td>2020-04-06,</td>\n",
       "      <td>2020-04-06</td>\n",
       "    </tr>\n",
       "    <tr>\n",
       "      <th>462</th>\n",
       "      <td>2020-04-07,</td>\n",
       "      <td>2020-04-07</td>\n",
       "    </tr>\n",
       "    <tr>\n",
       "      <th>463</th>\n",
       "      <td>2020-04-08</td>\n",
       "      <td>2020-04-08</td>\n",
       "    </tr>\n",
       "  </tbody>\n",
       "</table>\n",
       "<p>464 rows × 2 columns</p>\n",
       "</div>"
      ],
      "text/plain": [
       "             col       date\n",
       "0    2019-01-01, 2019-01-01\n",
       "1    2019-01-02, 2019-01-02\n",
       "2    2019-01-03, 2019-01-03\n",
       "3    2019-01-04, 2019-01-04\n",
       "4    2019-01-05, 2019-01-05\n",
       "..           ...        ...\n",
       "459  2020-04-04, 2020-04-04\n",
       "460  2020-04-05, 2020-04-05\n",
       "461  2020-04-06, 2020-04-06\n",
       "462  2020-04-07, 2020-04-07\n",
       "463   2020-04-08 2020-04-08\n",
       "\n",
       "[464 rows x 2 columns]"
      ]
     },
     "execution_count": 64,
     "metadata": {},
     "output_type": "execute_result"
    }
   ],
   "source": [
    "# creating a table with all dates for the given range to time, such that we can do a left\n",
    "df_date[\"date\"]=df_date[\"col\"].str.replace(\",\",\"\")\n",
    "df_date[\"date\"]= pd.to_datetime(df_date[\"col\"])\n",
    "df_date"
   ]
  },
  {
   "cell_type": "code",
   "execution_count": 156,
   "metadata": {},
   "outputs": [],
   "source": [
    "def combine_df (df1, df2):\n",
    "    df2[\"date\"]=pd.to_datetime(df2[\"date\"])\n",
    "    df_new = df1.merge(right = df2,\n",
    "                      how = \"left\",\n",
    "                      on = \"date\")\n",
    "    return df_new"
   ]
  },
  {
   "cell_type": "code",
   "execution_count": 203,
   "metadata": {},
   "outputs": [],
   "source": [
    "#CAC_40\n",
    "df_CAC = pd.read_csv(\"CAC_40_FR_clean.csv\")\n",
    "\n",
    "#DAX_30\n",
    "df_DAX = pd.read_csv(\"DAX_30_DE_clean.csv\")\n",
    "\n",
    "#DOW_JONES\n",
    "df_DJ = pd.read_csv(\"DOW_JONES_US_clean\").drop(columns=\"Unnamed: 0\")\n",
    "\n",
    "#FTSE_MIB\n",
    "df_FTSE = pd.read_csv(\"FTSE_MIB_IT_clean\")\n",
    "columns = [\"date\",\"FTSE_IT_value\"]\n",
    "df_FTSE.columns = columns\n",
    "\n",
    "#IBEX\n",
    "df_IBEX = pd.read_csv(\"IBEX_35_SP_clean.csv\").drop(columns=\"Unnamed: 0\")\n",
    "columns = [\"date\",\"IBEX_value\"]\n",
    "df_IBEX.columns = columns\n",
    "\n",
    "# NASDAQ_clean\n",
    "df_NASDAQ = pd.read_csv(\"NASDAQ_clean\").drop(columns=\"Unnamed: 0\")\n",
    "\n",
    "#NIKKEI\n",
    "df_NIKKEI = pd.read_csv(\"NIKKEI_225_JP_clean.csv\")\n",
    "\n",
    "#SP_500\n",
    "df_SP = pd.read_csv(\"S&P_500_US_clean.csv\")\n",
    "\n",
    "#SSE\n",
    "df_SSE = pd.read_csv(\"SSE_CN_clean.csv\").drop(columns=\"Unnamed: 0\")\n",
    "columns=[\"date\",\"SSE_value\"]\n",
    "df_SSE.columns = columns"
   ]
  },
  {
   "cell_type": "code",
   "execution_count": 212,
   "metadata": {},
   "outputs": [],
   "source": [
    "#def combine_df_test (df1, df2):\n",
    "#    df_new = df1\n",
    "#    for index in df2:\n",
    "#        index[\"date\"]=pd.to_datetime(index[\"date\"])\n",
    "#        df_new = df_new.merge(right = index,\n",
    "#                          how = \"left\",\n",
    "#                          on = \"date\")\n",
    "#    return df_new\n",
    "#\n",
    "#list_of_index = [df_CAC, df_DAX, df_DJ, df_FTSE, df_IBEX, df_NASDAQ, df_NIKKEI, df_SP,df_SSE]\n",
    "#combine_df_test(df_date, list_of_index)"
   ]
  },
  {
   "cell_type": "code",
   "execution_count": null,
   "metadata": {},
   "outputs": [],
   "source": [
    "list_of_index = [df_CAC, df_DAX, df_DJ, df_FTSE, df_IBEX, df_NASDAQ, df_NIKKEI, df_SP,df_SSE]\n",
    "df_new = df_date\n",
    "for index in list_of_index:\n",
    "    df_new = combine_df(df_new, index)\n"
   ]
  },
  {
   "cell_type": "code",
   "execution_count": null,
   "metadata": {},
   "outputs": [],
   "source": [
    "df_new.to_pickle(\"combined_financial_data\")"
   ]
  },
  {
   "cell_type": "code",
   "execution_count": 167,
   "metadata": {},
   "outputs": [],
   "source": [
    "# Adding_df_CAC\n",
    "df_new = combine_df(df_date,df_CAC)"
   ]
  },
  {
   "cell_type": "code",
   "execution_count": 168,
   "metadata": {},
   "outputs": [],
   "source": [
    "# Adding_df_DAX\n",
    "df_new_1 = combine_df(df_new,df_DAX)"
   ]
  },
  {
   "cell_type": "code",
   "execution_count": 143,
   "metadata": {},
   "outputs": [],
   "source": [
    "# Adding_df_DJ\n",
    "df_new_2 = combine_df(df_new_1, df_DJ)"
   ]
  },
  {
   "cell_type": "code",
   "execution_count": 172,
   "metadata": {},
   "outputs": [],
   "source": [
    "# Adding_df_FTSE\n",
    "df_new_3 = combine_df(df_new_2, df_FTSE)"
   ]
  },
  {
   "cell_type": "code",
   "execution_count": 176,
   "metadata": {},
   "outputs": [],
   "source": [
    "# Adding_df_IBEX\n",
    "df_new_4 = combine_df(df_new_3, df_IBEX)"
   ]
  },
  {
   "cell_type": "code",
   "execution_count": 177,
   "metadata": {},
   "outputs": [],
   "source": [
    "# Adding_df_NASDAQ"
   ]
  },
  {
   "cell_type": "code",
   "execution_count": 181,
   "metadata": {},
   "outputs": [],
   "source": [
    "df_new_5 = combine_df(df_new_4, df_NASDAQ)"
   ]
  },
  {
   "cell_type": "code",
   "execution_count": 184,
   "metadata": {},
   "outputs": [],
   "source": [
    "# Adding_df_NIKKEI\n",
    "df_new_6 = combine_df(df_new_5, df_NIKKEI)"
   ]
  },
  {
   "cell_type": "code",
   "execution_count": 198,
   "metadata": {},
   "outputs": [],
   "source": [
    "# Adding_df_SP_500\n",
    "df_new_7 = combine_df(df_new_6, df_SP)"
   ]
  },
  {
   "cell_type": "code",
   "execution_count": 206,
   "metadata": {},
   "outputs": [],
   "source": [
    "# Adding_df_SSE\n",
    "df_new_8 = combine_df(df_new_7, df_SSE)"
   ]
  },
  {
   "cell_type": "code",
   "execution_count": 208,
   "metadata": {},
   "outputs": [],
   "source": [
    "df_financial_index = df_new_8.copy()"
   ]
  },
  {
   "cell_type": "code",
   "execution_count": null,
   "metadata": {},
   "outputs": [],
   "source": []
  },
  {
   "cell_type": "code",
   "execution_count": null,
   "metadata": {},
   "outputs": [],
   "source": []
  }
 ],
 "metadata": {
  "kernelspec": {
   "display_name": "Python 3",
   "language": "python",
   "name": "python3"
  },
  "language_info": {
   "codemirror_mode": {
    "name": "ipython",
    "version": 3
   },
   "file_extension": ".py",
   "mimetype": "text/x-python",
   "name": "python",
   "nbconvert_exporter": "python",
   "pygments_lexer": "ipython3",
   "version": "3.7.7"
  }
 },
 "nbformat": 4,
 "nbformat_minor": 4
}
