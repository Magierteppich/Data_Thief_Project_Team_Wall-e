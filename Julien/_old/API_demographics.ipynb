{
 "cells": [
  {
   "cell_type": "code",
   "execution_count": 2,
   "metadata": {},
   "outputs": [],
   "source": [
    "import pandas as pd\n",
    "import requests\n",
    "import json\n",
    "import matplotlib\n",
    "%matplotlib inline"
   ]
  },
  {
   "cell_type": "code",
   "execution_count": 7,
   "metadata": {},
   "outputs": [],
   "source": [
    "url = \"https://www.worldpop.org/rest/data\"\n",
    "{\n",
    "    \"data\": [\n",
    "        {\n",
    "            \"alias\": \"pop\",\n",
    "            \"name\": \"Population\",\n",
    "            \"title\": \"Population\",\n",
    "            \"desc\": \"WorldPop producs different types of gridded population count datasets\"\n",
    "        }\n",
    "    ]\n",
    "}    \n",
    "    \n",
    "headers ={\"accept\": \"application/json\"}"
   ]
  },
  {
   "cell_type": "code",
   "execution_count": 8,
   "metadata": {},
   "outputs": [],
   "source": [
    "response = requests.get(url)"
   ]
  },
  {
   "cell_type": "code",
   "execution_count": 9,
   "metadata": {},
   "outputs": [
    {
     "data": {
      "text/plain": [
       "dict_keys(['data'])"
      ]
     },
     "execution_count": 9,
     "metadata": {},
     "output_type": "execute_result"
    }
   ],
   "source": [
    "response.json().keys()"
   ]
  },
  {
   "cell_type": "code",
   "execution_count": 10,
   "metadata": {},
   "outputs": [
    {
     "data": {
      "text/plain": [
       "200"
      ]
     },
     "execution_count": 10,
     "metadata": {},
     "output_type": "execute_result"
    }
   ],
   "source": [
    "response.status_code"
   ]
  },
  {
   "cell_type": "code",
   "execution_count": 11,
   "metadata": {},
   "outputs": [],
   "source": [
    "demographics = response.json()[\"data\"]"
   ]
  },
  {
   "cell_type": "code",
   "execution_count": 18,
   "metadata": {},
   "outputs": [
    {
     "data": {
      "text/plain": [
       "[{'alias': 'global_flight_data',\n",
       "  'name': 'Global Flight Data',\n",
       "  'title': 'Global Flight Data',\n",
       "  'desc': 'The expanding global air network provides rapid and wide-reaching connections accelerating both domestic and international travel. To understand human movement patterns on the network and their socioeconomic, environmental and epidemiological implications, information on passenger flow is required. However, comprehensive data on global passenger flow remain difficult and expensive to obtain, prompting researchers and analysts to rely on scheduled flight seat capacity data or simple models of flow. WorldPop has developed models of global air passenger flows, with annual flow methods described in <a href=\"https://journals.plos.org/plosone/article?id=10.1371/journal.pone.0064317\"  target=\"_blank\">Huang et al</a>, seasonal flows described in <a href=\"https://www.sciencedirect.com/science/article/pii/S0966692315001581\"  target=\"_blank\">Mao et al</a>, and the output estimates available to download here.'},\n",
       " {'alias': 'covariates',\n",
       "  'name': 'Covariates',\n",
       "  'title': 'Geospatial covariate data layers',\n",
       "  'desc': 'Recent years have seen substantial growth in openly available satellite and other geospatial data layers, which represent a range of metrics relevant to global human population mapping at fine spatial scales. The specifications of such data differ widely and therefore the harmonisation of data layers is a prerequisite to constructing detailed and contemporary spatial datasets which accurately describe population distributions. Such datasets are vital to measure impacts of population growth, monitor change, and plan interventions. To this end WorldPop has produced an open access archive of 3 and 30 arc-second resolution gridded data, which are available to download here and are described further in <a href=\"https://www.tandfonline.com/doi/full/10.1080/20964471.2019.1625151\"  target=\"_blank\">Lloyd et al 2019</a> and also <a href=\"https://www.nature.com/articles/sdata20171\"  target=\"_blank\">Lloyd et al 2017</a>.'},\n",
       " {'alias': 'gbsg',\n",
       "  'name': 'Global Settlement Growth',\n",
       "  'title': 'Global Built-Settlement Growth',\n",
       "  'desc': 'Changing populations are often accompanied by changing built-settlement landscapes. Here, small area population data and a limited set of environmental covariates have been combined with machine learning methods and dynamically-limited growth curves to annually interpolate (from 2000 to 2014) and annually project (from 2015 to 2020) the presence of built-settlements across the globe at 100m resolution. These annual built-settlement maps were then used to inform the WorldPop \"Global per country 2000-2020\" population datasets. An overview of the built-settlement growth modeling framework can be found in <a href=\"https://www.sciencedirect.com/science/article/pii/S019897151930290X\" >Nieves et al.</a> '},\n",
       " {'alias': 'gridcellsurfaceareas',\n",
       "  'name': 'Grid-cell surface areas',\n",
       "  'title': 'Grid-cell surface areas',\n",
       "  'desc': 'Grid-cell surface areas'},\n",
       " {'alias': 'adminareas',\n",
       "  'name': 'Administrative Areas',\n",
       "  'title': 'Administrative Areas',\n",
       "  'desc': 'Administrative Areas'}]"
      ]
     },
     "execution_count": 18,
     "metadata": {},
     "output_type": "execute_result"
    }
   ],
   "source": [
    "demographics[-5:]"
   ]
  },
  {
   "cell_type": "code",
   "execution_count": null,
   "metadata": {},
   "outputs": [],
   "source": []
  }
 ],
 "metadata": {
  "kernelspec": {
   "display_name": "Python 3",
   "language": "python",
   "name": "python3"
  },
  "language_info": {
   "codemirror_mode": {
    "name": "ipython",
    "version": 3
   },
   "file_extension": ".py",
   "mimetype": "text/x-python",
   "name": "python",
   "nbconvert_exporter": "python",
   "pygments_lexer": "ipython3",
   "version": "3.8.1"
  }
 },
 "nbformat": 4,
 "nbformat_minor": 4
}
